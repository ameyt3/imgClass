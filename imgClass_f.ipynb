{
 "cells": [
  {
   "cell_type": "code",
   "execution_count": 1,
   "id": "2b698a8e",
   "metadata": {},
   "outputs": [],
   "source": [
    "#importing image procssing and data handling libraries\n",
    "import cv2\n",
    "import pandas as pd"
   ]
  },
  {
   "cell_type": "code",
   "execution_count": 2,
   "id": "229c5808",
   "metadata": {},
   "outputs": [],
   "source": [
    "import numpy as np"
   ]
  },
  {
   "cell_type": "code",
   "execution_count": 3,
   "id": "783cbfcb",
   "metadata": {},
   "outputs": [],
   "source": [
    "#Function to import images as numpy arrays and store them in a list\n",
    "import os\n",
    "\n",
    "def load_images_from_folder(foldername):\n",
    "    images = []\n",
    "    for filename in os.listdir(foldername):\n",
    "        img = cv2.imread(os.path.join(foldername,filename))\n",
    "        \n",
    "        img=cv2.resize(img,(224,224),3)\n",
    "        if img is not None:\n",
    "            images.append(img)\n",
    "    return images\n",
    "img_list=load_images_from_folder(\"C:/Users/ameyt/Desktop/fliprobo/image classification/images\")"
   ]
  },
  {
   "cell_type": "code",
   "execution_count": 4,
   "id": "2d11ae47",
   "metadata": {},
   "outputs": [
    {
     "data": {
      "text/plain": [
       "array([[[14, 14, 14],\n",
       "        [14, 14, 14],\n",
       "        [14, 14, 14],\n",
       "        ...,\n",
       "        [14, 14, 14],\n",
       "        [14, 14, 14],\n",
       "        [14, 14, 14]],\n",
       "\n",
       "       [[14, 14, 14],\n",
       "        [14, 14, 14],\n",
       "        [14, 14, 14],\n",
       "        ...,\n",
       "        [14, 14, 14],\n",
       "        [14, 14, 14],\n",
       "        [14, 14, 14]],\n",
       "\n",
       "       [[14, 14, 14],\n",
       "        [14, 14, 14],\n",
       "        [14, 14, 14],\n",
       "        ...,\n",
       "        [14, 14, 14],\n",
       "        [14, 14, 14],\n",
       "        [14, 14, 14]],\n",
       "\n",
       "       ...,\n",
       "\n",
       "       [[14, 14, 14],\n",
       "        [14, 14, 14],\n",
       "        [14, 14, 14],\n",
       "        ...,\n",
       "        [14, 14, 14],\n",
       "        [14, 14, 14],\n",
       "        [14, 14, 14]],\n",
       "\n",
       "       [[14, 14, 14],\n",
       "        [14, 14, 14],\n",
       "        [14, 14, 14],\n",
       "        ...,\n",
       "        [14, 14, 14],\n",
       "        [14, 14, 14],\n",
       "        [14, 14, 14]],\n",
       "\n",
       "       [[14, 14, 14],\n",
       "        [14, 14, 14],\n",
       "        [14, 14, 14],\n",
       "        ...,\n",
       "        [14, 14, 14],\n",
       "        [14, 14, 14],\n",
       "        [14, 14, 14]]], dtype=uint8)"
      ]
     },
     "execution_count": 4,
     "metadata": {},
     "output_type": "execute_result"
    }
   ],
   "source": [
    "#array representation of images\n",
    "img_list[0]"
   ]
  },
  {
   "cell_type": "code",
   "execution_count": 5,
   "id": "2583a5d2",
   "metadata": {},
   "outputs": [],
   "source": [
    "#converting list to array as tensorflow accepts np arrays\n",
    "arr = np.asarray(img_list)"
   ]
  },
  {
   "cell_type": "code",
   "execution_count": 6,
   "id": "ed85ccad",
   "metadata": {},
   "outputs": [],
   "source": [
    "import matplotlib.pyplot as plt"
   ]
  },
  {
   "cell_type": "code",
   "execution_count": 7,
   "id": "f2d09e4a",
   "metadata": {},
   "outputs": [
    {
     "data": {
      "text/plain": [
       "<matplotlib.image.AxesImage at 0x19019f37520>"
      ]
     },
     "execution_count": 7,
     "metadata": {},
     "output_type": "execute_result"
    },
    {
     "data": {
      "image/png": "[encoded data removed]",
      "text/plain": [
       "<Figure size 288x288 with 1 Axes>"
      ]
     },
     "metadata": {
      "needs_background": "light"
     },
     "output_type": "display_data"
    }
   ],
   "source": [
    "plt.matshow(img_list[0])"
   ]
  },
  {
   "cell_type": "code",
   "execution_count": 8,
   "id": "a56880be",
   "metadata": {},
   "outputs": [
    {
     "data": {
      "text/plain": [
       "(877, 224, 224, 3)"
      ]
     },
     "execution_count": 8,
     "metadata": {},
     "output_type": "execute_result"
    }
   ],
   "source": [
    "arr.shape"
   ]
  },
  {
   "cell_type": "raw",
   "id": "7b943ae2",
   "metadata": {},
   "source": [
    "mapping_dict = {'class':{'sarees':0,'jeans':1,'trousers':2}}"
   ]
  },
  {
   "cell_type": "code",
   "execution_count": 9,
   "id": "21cc06e0",
   "metadata": {},
   "outputs": [],
   "source": [
    "#creating taregt list\n",
    "classes=[]\n",
    "for i in range(0,len(img_list)):\n",
    "    if i<301:\n",
    "        classes.append(1)\n",
    "    elif 300<i<589:\n",
    "        classes.append(0)\n",
    "    else:\n",
    "        classes.append(2)"
   ]
  },
  {
   "cell_type": "code",
   "execution_count": 10,
   "id": "7f06e09f",
   "metadata": {},
   "outputs": [],
   "source": [
    "cls_arr=np.asarray(classes)"
   ]
  },
  {
   "cell_type": "code",
   "execution_count": 11,
   "id": "4327e15a",
   "metadata": {},
   "outputs": [
    {
     "data": {
      "text/plain": [
       "2"
      ]
     },
     "execution_count": 11,
     "metadata": {},
     "output_type": "execute_result"
    }
   ],
   "source": [
    "classes[-1]"
   ]
  },
  {
   "cell_type": "code",
   "execution_count": 12,
   "id": "d59f28f3",
   "metadata": {},
   "outputs": [
    {
     "data": {
      "text/plain": [
       "<matplotlib.image.AxesImage at 0x1901a6a9790>"
      ]
     },
     "execution_count": 12,
     "metadata": {},
     "output_type": "execute_result"
    },
    {
     "data": {
      "image/png": "[encoded data removed]",
      "text/plain": [
       "<Figure size 288x288 with 1 Axes>"
      ]
     },
     "metadata": {
      "needs_background": "light"
     },
     "output_type": "display_data"
    }
   ],
   "source": [
    "plt.matshow(img_list[-1])"
   ]
  },
  {
   "cell_type": "code",
   "execution_count": 13,
   "id": "539eddd8",
   "metadata": {},
   "outputs": [],
   "source": [
    "#diving data in train and test data\n",
    "from sklearn.model_selection import train_test_split\n",
    "x=arr\n",
    "y=cls_arr\n",
    "x_train,x_test,y_train,y_test = train_test_split(x,y,test_size = .20,random_state=43)"
   ]
  },
  {
   "cell_type": "code",
   "execution_count": 14,
   "id": "57b4c5e4",
   "metadata": {},
   "outputs": [
    {
     "data": {
      "text/plain": [
       "numpy.ndarray"
      ]
     },
     "execution_count": 14,
     "metadata": {},
     "output_type": "execute_result"
    }
   ],
   "source": [
    "type(x_train)"
   ]
  },
  {
   "cell_type": "code",
   "execution_count": 15,
   "id": "c27a059c",
   "metadata": {},
   "outputs": [
    {
     "data": {
      "text/plain": [
       "(701, 224, 224, 3)"
      ]
     },
     "execution_count": 15,
     "metadata": {},
     "output_type": "execute_result"
    }
   ],
   "source": [
    "x_train.shape"
   ]
  },
  {
   "cell_type": "code",
   "execution_count": 16,
   "id": "b14d0b8b",
   "metadata": {},
   "outputs": [
    {
     "data": {
      "text/plain": [
       "array([[[14, 14, 14],\n",
       "        [14, 14, 14],\n",
       "        [14, 14, 14],\n",
       "        ...,\n",
       "        [14, 14, 14],\n",
       "        [14, 14, 14],\n",
       "        [14, 14, 14]],\n",
       "\n",
       "       [[14, 14, 14],\n",
       "        [14, 14, 14],\n",
       "        [14, 14, 14],\n",
       "        ...,\n",
       "        [14, 14, 14],\n",
       "        [14, 14, 14],\n",
       "        [14, 14, 14]],\n",
       "\n",
       "       [[14, 14, 14],\n",
       "        [14, 14, 14],\n",
       "        [14, 14, 14],\n",
       "        ...,\n",
       "        [14, 14, 14],\n",
       "        [14, 14, 14],\n",
       "        [14, 14, 14]],\n",
       "\n",
       "       ...,\n",
       "\n",
       "       [[14, 14, 14],\n",
       "        [14, 14, 14],\n",
       "        [14, 14, 14],\n",
       "        ...,\n",
       "        [14, 14, 14],\n",
       "        [14, 14, 14],\n",
       "        [14, 14, 14]],\n",
       "\n",
       "       [[14, 14, 14],\n",
       "        [14, 14, 14],\n",
       "        [14, 14, 14],\n",
       "        ...,\n",
       "        [14, 14, 14],\n",
       "        [14, 14, 14],\n",
       "        [14, 14, 14]],\n",
       "\n",
       "       [[14, 14, 14],\n",
       "        [14, 14, 14],\n",
       "        [14, 14, 14],\n",
       "        ...,\n",
       "        [14, 14, 14],\n",
       "        [14, 14, 14],\n",
       "        [14, 14, 14]]], dtype=uint8)"
      ]
     },
     "execution_count": 16,
     "metadata": {},
     "output_type": "execute_result"
    }
   ],
   "source": [
    "x_train[0]"
   ]
  },
  {
   "cell_type": "code",
   "execution_count": 17,
   "id": "5f04798f",
   "metadata": {},
   "outputs": [
    {
     "data": {
      "text/plain": [
       "array([1, 1, 2, 2, 2])"
      ]
     },
     "execution_count": 17,
     "metadata": {},
     "output_type": "execute_result"
    }
   ],
   "source": [
    "y_train=y_train.reshape(-1,)\n",
    "y_train[:5]"
   ]
  },
  {
   "cell_type": "code",
   "execution_count": 18,
   "id": "c66e25bb",
   "metadata": {},
   "outputs": [],
   "source": [
    "y_test=y_test.reshape(-1,)"
   ]
  },
  {
   "cell_type": "code",
   "execution_count": 19,
   "id": "5470f396",
   "metadata": {},
   "outputs": [],
   "source": [
    "#scaling down the data \n",
    "x_train=x_train/255\n",
    "x_test=x_test/255"
   ]
  },
  {
   "cell_type": "code",
   "execution_count": 20,
   "id": "754040df",
   "metadata": {},
   "outputs": [
    {
     "data": {
      "text/plain": [
       "array([[[0.05490196, 0.05490196, 0.05490196],\n",
       "        [0.05490196, 0.05490196, 0.05490196],\n",
       "        [0.05490196, 0.05490196, 0.05490196],\n",
       "        ...,\n",
       "        [0.05490196, 0.05490196, 0.05490196],\n",
       "        [0.05490196, 0.05490196, 0.05490196],\n",
       "        [0.05490196, 0.05490196, 0.05490196]],\n",
       "\n",
       "       [[0.05490196, 0.05490196, 0.05490196],\n",
       "        [0.05490196, 0.05490196, 0.05490196],\n",
       "        [0.05490196, 0.05490196, 0.05490196],\n",
       "        ...,\n",
       "        [0.05490196, 0.05490196, 0.05490196],\n",
       "        [0.05490196, 0.05490196, 0.05490196],\n",
       "        [0.05490196, 0.05490196, 0.05490196]],\n",
       "\n",
       "       [[0.05490196, 0.05490196, 0.05490196],\n",
       "        [0.05490196, 0.05490196, 0.05490196],\n",
       "        [0.05490196, 0.05490196, 0.05490196],\n",
       "        ...,\n",
       "        [0.05490196, 0.05490196, 0.05490196],\n",
       "        [0.05490196, 0.05490196, 0.05490196],\n",
       "        [0.05490196, 0.05490196, 0.05490196]],\n",
       "\n",
       "       ...,\n",
       "\n",
       "       [[0.05490196, 0.05490196, 0.05490196],\n",
       "        [0.05490196, 0.05490196, 0.05490196],\n",
       "        [0.05490196, 0.05490196, 0.05490196],\n",
       "        ...,\n",
       "        [0.05490196, 0.05490196, 0.05490196],\n",
       "        [0.05490196, 0.05490196, 0.05490196],\n",
       "        [0.05490196, 0.05490196, 0.05490196]],\n",
       "\n",
       "       [[0.05490196, 0.05490196, 0.05490196],\n",
       "        [0.05490196, 0.05490196, 0.05490196],\n",
       "        [0.05490196, 0.05490196, 0.05490196],\n",
       "        ...,\n",
       "        [0.05490196, 0.05490196, 0.05490196],\n",
       "        [0.05490196, 0.05490196, 0.05490196],\n",
       "        [0.05490196, 0.05490196, 0.05490196]],\n",
       "\n",
       "       [[0.05490196, 0.05490196, 0.05490196],\n",
       "        [0.05490196, 0.05490196, 0.05490196],\n",
       "        [0.05490196, 0.05490196, 0.05490196],\n",
       "        ...,\n",
       "        [0.05490196, 0.05490196, 0.05490196],\n",
       "        [0.05490196, 0.05490196, 0.05490196],\n",
       "        [0.05490196, 0.05490196, 0.05490196]]])"
      ]
     },
     "execution_count": 20,
     "metadata": {},
     "output_type": "execute_result"
    }
   ],
   "source": [
    "x_train[0]"
   ]
  },
  {
   "cell_type": "code",
   "execution_count": 21,
   "id": "3069a5a6",
   "metadata": {},
   "outputs": [
    {
     "data": {
      "text/plain": [
       "(224, 224, 3)"
      ]
     },
     "execution_count": 21,
     "metadata": {},
     "output_type": "execute_result"
    }
   ],
   "source": [
    "#checking shape of each array to feed to input layer\n",
    "x_train[0].shape"
   ]
  },
  {
   "cell_type": "code",
   "execution_count": 22,
   "id": "39a81595",
   "metadata": {},
   "outputs": [],
   "source": [
    "#importing libraries required to build DL models and result visualization\n",
    "import tensorflow as tf\n",
    "from tensorflow.keras import layers, models\n",
    "import seaborn as sns\n",
    "from sklearn.metrics import confusion_matrix"
   ]
  },
  {
   "cell_type": "code",
   "execution_count": 23,
   "id": "da589c06",
   "metadata": {},
   "outputs": [],
   "source": [
    "ann_model=models.Sequential()"
   ]
  },
  {
   "cell_type": "code",
   "execution_count": 24,
   "id": "c62e83ab",
   "metadata": {},
   "outputs": [],
   "source": [
    "#input layer\n",
    "ann_model.add(layers.Flatten(input_shape=(224, 224, 3)))"
   ]
  },
  {
   "cell_type": "code",
   "execution_count": 25,
   "id": "e7334f28",
   "metadata": {},
   "outputs": [],
   "source": [
    "#Hidden layers and output layer\n",
    "ann_model.add(layers.Dense(300, activation='relu'))\n",
    "ann_model.add(layers.Dense(100, activation='relu'))\n",
    "ann_model.add(layers.Dense(3, activation='softmax'))"
   ]
  },
  {
   "cell_type": "code",
   "execution_count": 26,
   "id": "5412c2a5",
   "metadata": {},
   "outputs": [],
   "source": [
    "#compiling model\n",
    "ann_model.compile(optimizer='SGD',loss='sparse_categorical_crossentropy',metrics=['accuracy'])"
   ]
  },
  {
   "cell_type": "code",
   "execution_count": 27,
   "id": "ab6c4d1e",
   "metadata": {},
   "outputs": [
    {
     "name": "stdout",
     "output_type": "stream",
     "text": [
      "Epoch 1/10\n",
      "22/22 [==============================] - 5s 211ms/step - loss: 1.8198 - accuracy: 0.4394\n",
      "Epoch 2/10\n",
      "22/22 [==============================] - 5s 220ms/step - loss: 0.8672 - accuracy: 0.5464\n",
      "Epoch 3/10\n",
      "22/22 [==============================] - 5s 231ms/step - loss: 0.6983 - accuracy: 0.6419\n",
      "Epoch 4/10\n",
      "22/22 [==============================] - 5s 234ms/step - loss: 0.5963 - accuracy: 0.6919\n",
      "Epoch 5/10\n",
      "22/22 [==============================] - 5s 216ms/step - loss: 0.5942 - accuracy: 0.6876\n",
      "Epoch 6/10\n",
      "22/22 [==============================] - 5s 215ms/step - loss: 0.6254 - accuracy: 0.6748\n",
      "Epoch 7/10\n",
      "22/22 [==============================] - 5s 215ms/step - loss: 0.5379 - accuracy: 0.7361\n",
      "Epoch 8/10\n",
      "22/22 [==============================] - 5s 219ms/step - loss: 0.5492 - accuracy: 0.6890\n",
      "Epoch 9/10\n",
      "22/22 [==============================] - 4s 200ms/step - loss: 0.5029 - accuracy: 0.7389\n",
      "Epoch 10/10\n",
      "22/22 [==============================] - 4s 204ms/step - loss: 0.5265 - accuracy: 0.7304\n"
     ]
    },
    {
     "data": {
      "text/plain": [
       "<tensorflow.python.keras.callbacks.History at 0x1906785a820>"
      ]
     },
     "execution_count": 27,
     "metadata": {},
     "output_type": "execute_result"
    }
   ],
   "source": [
    "#training model on train data\n",
    "ann_model.fit(x_train,y_train,epochs=10)"
   ]
  },
  {
   "cell_type": "code",
   "execution_count": 28,
   "id": "f4b69200",
   "metadata": {},
   "outputs": [],
   "source": [
    "#predicting classes for test data\n",
    "y_pred_ann=ann_model.predict(x_test)"
   ]
  },
  {
   "cell_type": "code",
   "execution_count": 29,
   "id": "973f614d",
   "metadata": {},
   "outputs": [],
   "source": [
    "y_predicted_labels_ann=[np.argmax(i) for i in y_pred_ann]"
   ]
  },
  {
   "cell_type": "code",
   "execution_count": 30,
   "id": "f64849b4",
   "metadata": {},
   "outputs": [
    {
     "data": {
      "text/plain": [
       "<tf.Tensor: shape=(3, 3), dtype=int32, numpy=\n",
       "array([[68,  0,  1],\n",
       "       [ 0, 38, 15],\n",
       "       [ 2, 21, 31]])>"
      ]
     },
     "execution_count": 30,
     "metadata": {},
     "output_type": "execute_result"
    }
   ],
   "source": [
    "cm=tf.math.confusion_matrix(labels=y_test,predictions=y_predicted_labels_ann)\n",
    "cm"
   ]
  },
  {
   "cell_type": "code",
   "execution_count": 31,
   "id": "459ddffd",
   "metadata": {},
   "outputs": [
    {
     "data": {
      "text/plain": [
       "<AxesSubplot:>"
      ]
     },
     "execution_count": 31,
     "metadata": {},
     "output_type": "execute_result"
    },
    {
     "data": {
      "image/png": "[encoded data removed]",
      "text/plain": [
       "<Figure size 432x288 with 2 Axes>"
      ]
     },
     "metadata": {
      "needs_background": "light"
     },
     "output_type": "display_data"
    }
   ],
   "source": [
    "#visualizing the results\n",
    "sns.heatmap(cm,annot=True)"
   ]
  },
  {
   "cell_type": "code",
   "execution_count": 32,
   "id": "81222e12",
   "metadata": {},
   "outputs": [],
   "source": [
    "cnn_model=models.Sequential()\n",
    "#input layer\n",
    "cnn_model.add(layers.Conv2D(filters=32, kernel_size=(3,3),activation='relu',input_shape=(224,224,3)))\n",
    "cnn_model.add(layers.MaxPool2D((2,2)))\n",
    "\n",
    "cnn_model.add(layers.Conv2D(filters=64, kernel_size=(3,3),activation='relu'))\n",
    "cnn_model.add(layers.MaxPool2D((2,2)))\n",
    "\n",
    "cnn_model.add(layers.Flatten())\n",
    "\n",
    "cnn_model.add(layers.Dense(64,activation='relu'))\n",
    "#output layer\n",
    "cnn_model.add(layers.Dense(3,activation='softmax'))"
   ]
  },
  {
   "cell_type": "code",
   "execution_count": 33,
   "id": "30c5cce0",
   "metadata": {},
   "outputs": [],
   "source": [
    "cnn_model.compile(optimizer='adam',loss='sparse_categorical_crossentropy',metrics=['accuracy'])"
   ]
  },
  {
   "cell_type": "code",
   "execution_count": 34,
   "id": "8c04cc6b",
   "metadata": {},
   "outputs": [
    {
     "name": "stdout",
     "output_type": "stream",
     "text": [
      "Epoch 1/10\n",
      "22/22 [==============================] - 38s 2s/step - loss: 1.3188 - accuracy: 0.5464\n",
      "Epoch 2/10\n",
      "22/22 [==============================] - 38s 2s/step - loss: 0.5038 - accuracy: 0.7589\n",
      "Epoch 3/10\n",
      "22/22 [==============================] - 39s 2s/step - loss: 0.3699 - accuracy: 0.8245\n",
      "Epoch 4/10\n",
      "22/22 [==============================] - 38s 2s/step - loss: 0.3097 - accuracy: 0.8631\n",
      "Epoch 5/10\n",
      "22/22 [==============================] - 37s 2s/step - loss: 0.2412 - accuracy: 0.9073\n",
      "Epoch 6/10\n",
      "22/22 [==============================] - 37s 2s/step - loss: 0.1960 - accuracy: 0.9301\n",
      "Epoch 7/10\n",
      "22/22 [==============================] - 38s 2s/step - loss: 0.1768 - accuracy: 0.9358\n",
      "Epoch 8/10\n",
      "22/22 [==============================] - 38s 2s/step - loss: 0.1213 - accuracy: 0.9700\n",
      "Epoch 9/10\n",
      "22/22 [==============================] - 38s 2s/step - loss: 0.1116 - accuracy: 0.9615\n",
      "Epoch 10/10\n",
      "22/22 [==============================] - 37s 2s/step - loss: 0.0881 - accuracy: 0.9729\n"
     ]
    },
    {
     "data": {
      "text/plain": [
       "<tensorflow.python.keras.callbacks.History at 0x19067ca1310>"
      ]
     },
     "execution_count": 34,
     "metadata": {},
     "output_type": "execute_result"
    }
   ],
   "source": [
    "cnn_model.fit(x_train,y_train,epochs=10)"
   ]
  },
  {
   "cell_type": "code",
   "execution_count": 35,
   "id": "86f26d4f",
   "metadata": {},
   "outputs": [],
   "source": [
    "#predicting classes for test data\n",
    "y_pred_cnn=cnn_model.predict(x_test)"
   ]
  },
  {
   "cell_type": "code",
   "execution_count": 36,
   "id": "e266d946",
   "metadata": {},
   "outputs": [],
   "source": [
    "y_predicted_labels_cnn=[np.argmax(i) for i in y_pred_cnn]"
   ]
  },
  {
   "cell_type": "code",
   "execution_count": 37,
   "id": "0c06d6d6",
   "metadata": {},
   "outputs": [
    {
     "data": {
      "text/plain": [
       "<tf.Tensor: shape=(3, 3), dtype=int32, numpy=\n",
       "array([[69,  0,  0],\n",
       "       [ 0, 42, 11],\n",
       "       [ 1,  8, 45]])>"
      ]
     },
     "execution_count": 37,
     "metadata": {},
     "output_type": "execute_result"
    }
   ],
   "source": [
    "cm=tf.math.confusion_matrix(labels=y_test,predictions=y_predicted_labels_cnn)\n",
    "cm"
   ]
  },
  {
   "cell_type": "code",
   "execution_count": 38,
   "id": "f27aabba",
   "metadata": {},
   "outputs": [
    {
     "data": {
      "text/plain": [
       "<AxesSubplot:>"
      ]
     },
     "execution_count": 38,
     "metadata": {},
     "output_type": "execute_result"
    },
    {
     "data": {
      "image/png": "[encoded data removed]",
      "text/plain": [
       "<Figure size 432x288 with 2 Axes>"
      ]
     },
     "metadata": {
      "needs_background": "light"
     },
     "output_type": "display_data"
    }
   ],
   "source": [
    "#visualizing the result\n",
    "sns.heatmap(cm,annot=True)"
   ]
  },
  {
   "cell_type": "code",
   "execution_count": null,
   "id": "ffd69736",
   "metadata": {},
   "outputs": [],
   "source": []
  }
 ],
 "metadata": {
  "kernelspec": {
   "display_name": "Python 3",
   "language": "python",
   "name": "python3"
  },
  "language_info": {
   "codemirror_mode": {
    "name": "ipython",
    "version": 3
   },
   "file_extension": ".py",
   "mimetype": "text/x-python",
   "name": "python",
   "nbconvert_exporter": "python",
   "pygments_lexer": "ipython3",
   "version": "3.8.10"
  }
 },
 "nbformat": 4,
 "nbformat_minor": 5
}
