{
 "cells": [
  {
   "cell_type": "code",
   "execution_count": 1,
   "id": "b5c89e28",
   "metadata": {},
   "outputs": [],
   "source": [
    "import pandas as pd\n",
    "from selenium import webdriver\n",
    "import time\n",
    "from selenium.webdriver.common.keys import Keys"
   ]
  },
  {
   "cell_type": "code",
   "execution_count": 2,
   "id": "40c43596",
   "metadata": {},
   "outputs": [],
   "source": [
    "products=['Saarees','Trousers','jeans']\n",
    "driver=webdriver.Chrome(r'Chromedriver.exe')\n",
    "driver.get('https://www.amazon.in/')\n",
    "amazon_urls=[]\n",
    "for product in products:\n",
    "    driver.find_element_by_xpath('//input[@id=\"twotabsearchtextbox\"]').send_keys(product)\n",
    "    driver.find_element_by_xpath('//input[@id=\"nav-search-submit-button\"]').click()\n",
    "    j=0\n",
    "    urls=[]\n",
    "    url_tags=[]\n",
    "    while j<6:\n",
    "        time.sleep(2)\n",
    "        url_tags=driver.find_elements_by_xpath('//a[@class=\"a-link-normal a-text-normal\"]')\n",
    "        for tag in url_tags:\n",
    "            urls.append(tag.get_attribute('href'))\n",
    "        driver.find_element_by_xpath('//li[@class=\"a-last\"]').click()\n",
    "        j+=1\n",
    "    amazon_urls.append(urls)\n",
    "    driver.find_element_by_xpath('//input[@id=\"twotabsearchtextbox\"]').clear()"
   ]
  },
  {
   "cell_type": "code",
   "execution_count": 3,
   "id": "8cf1dc47",
   "metadata": {},
   "outputs": [
    {
     "name": "stdout",
     "output_type": "stream",
     "text": [
      "288\n",
      "288\n",
      "296\n"
     ]
    }
   ],
   "source": [
    "print(len(amazon_urls[0]))\n",
    "print(len(amazon_urls[1]))\n",
    "print(len(amazon_urls[2]))"
   ]
  },
  {
   "cell_type": "code",
   "execution_count": 4,
   "id": "a31eeeda",
   "metadata": {},
   "outputs": [],
   "source": [
    "urls=[]\n",
    "for i in range(0,3):\n",
    "    for url in amazon_urls[i]:\n",
    "        urls.append(url)"
   ]
  },
  {
   "cell_type": "code",
   "execution_count": 5,
   "id": "deb0138c",
   "metadata": {},
   "outputs": [],
   "source": [
    "def scrape_images(url_list):\n",
    "    driver=webdriver.Chrome(r'Chromedriver.exe')\n",
    "    for url in url_list:\n",
    "        \n",
    "        driver.get(url)\n",
    "        source=(driver.find_element_by_xpath('//img[@id=\"landingImage\"]')).get_attribute('src')\n",
    "        driver.get(source)\n",
    "        if url_list==amazon_urls[0]:\n",
    "            asset_dir=''\n",
    "            driver.save_screenshot(\"sarees\"+str(urls.index(url))+\".png\")\n",
    "        if url_list==amazon_urls[1]:\n",
    "            driver.save_screenshot(\"trousers\"+str(urls.index(url))+\".png\")\n",
    "        if url_list==amazon_urls[2]:\n",
    "            driver.save_screenshot(\"jeans\"+str(urls.index(url))+\".png\")\n",
    "\n"
   ]
  },
  {
   "cell_type": "code",
   "execution_count": 6,
   "id": "b63b1238",
   "metadata": {},
   "outputs": [],
   "source": [
    "scrape_images(amazon_urls[0])"
   ]
  },
  {
   "cell_type": "code",
   "execution_count": 7,
   "id": "52b7b662",
   "metadata": {},
   "outputs": [],
   "source": [
    "scrape_images(amazon_urls[1])"
   ]
  },
  {
   "cell_type": "code",
   "execution_count": 8,
   "id": "8bfccd11",
   "metadata": {},
   "outputs": [],
   "source": [
    "scrape_images(amazon_urls[2])"
   ]
  },
  {
   "cell_type": "code",
   "execution_count": null,
   "id": "fe52b67c",
   "metadata": {},
   "outputs": [],
   "source": []
  },
  {
   "cell_type": "code",
   "execution_count": null,
   "id": "565d0fd6",
   "metadata": {},
   "outputs": [],
   "source": []
  },
  {
   "cell_type": "code",
   "execution_count": null,
   "id": "ffd32776",
   "metadata": {},
   "outputs": [],
   "source": []
  },
  {
   "cell_type": "code",
   "execution_count": null,
   "id": "e64a665a",
   "metadata": {},
   "outputs": [],
   "source": []
  },
  {
   "cell_type": "code",
   "execution_count": null,
   "id": "608918fe",
   "metadata": {},
   "outputs": [],
   "source": []
  }
 ],
 "metadata": {
  "kernelspec": {
   "display_name": "Python 3",
   "language": "python",
   "name": "python3"
  },
  "language_info": {
   "codemirror_mode": {
    "name": "ipython",
    "version": 3
   },
   "file_extension": ".py",
   "mimetype": "text/x-python",
   "name": "python",
   "nbconvert_exporter": "python",
   "pygments_lexer": "ipython3",
   "version": "3.6.13"
  }
 },
 "nbformat": 4,
 "nbformat_minor": 5
}
